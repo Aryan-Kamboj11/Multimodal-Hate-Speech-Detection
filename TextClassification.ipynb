{
 "cells": [
  {
   "cell_type": "code",
   "execution_count": 1,
   "id": "e8bf02d0",
   "metadata": {},
   "outputs": [],
   "source": [
    "\n",
    "import json\n",
    "import os\n",
    "import torch\n",
    "import torch.nn as nn\n",
    "import torchvision.transforms as transforms\n",
    "from sklearn.metrics import accuracy_score, classification_report\n",
    "from transformers import AutoModel, AutoTokenizer, get_scheduler\n",
    "from torch.utils.data import Dataset, DataLoader, RandomSampler, SequentialSampler\n",
    "from torch.optim import AdamW\n",
    "from tqdm.notebook import tqdm, trange\n",
    "from time import perf_counter\n",
    "from PIL import Image\n",
    "import pandas as pd\n"
   ]
  },
  {
   "cell_type": "code",
   "execution_count": 2,
   "id": "3d72129c",
   "metadata": {},
   "outputs": [],
   "source": [
    "if torch.cuda.is_available():\n",
    "    device = \"cuda\"\n",
    "else:\n",
    "    device = \"cpu\""
   ]
  },
  {
   "cell_type": "code",
   "execution_count": 3,
   "metadata": {},
   "outputs": [],
   "source": [
    "TEXTFOLDER = \"Dataset/img_txt/\"\n",
    "annotations = \"Dataset/MMHS150K_GT.json\""
   ]
  },
  {
   "cell_type": "code",
   "execution_count": 4,
   "id": "23312d54",
   "metadata": {},
   "outputs": [],
   "source": [
    "with open(annotations) as json_file:\n",
    "    data = json.load(json_file)\n",
    "\n",
    "data_df = pd.DataFrame(data).T.reset_index()\n",
    "data_df.rename(columns={'index':'id'},inplace=True)"
   ]
  },
  {
   "cell_type": "code",
   "execution_count": 5,
   "id": "a4a7461b",
   "metadata": {},
   "outputs": [
    {
     "data": {
      "text/html": [
       "<div>\n",
       "<style scoped>\n",
       "    .dataframe tbody tr th:only-of-type {\n",
       "        vertical-align: middle;\n",
       "    }\n",
       "\n",
       "    .dataframe tbody tr th {\n",
       "        vertical-align: top;\n",
       "    }\n",
       "\n",
       "    .dataframe thead th {\n",
       "        text-align: right;\n",
       "    }\n",
       "</style>\n",
       "<table border=\"1\" class=\"dataframe\">\n",
       "  <thead>\n",
       "    <tr style=\"text-align: right;\">\n",
       "      <th></th>\n",
       "      <th>id</th>\n",
       "      <th>img_url</th>\n",
       "      <th>labels</th>\n",
       "      <th>tweet_url</th>\n",
       "      <th>tweet_text</th>\n",
       "      <th>labels_str</th>\n",
       "    </tr>\n",
       "  </thead>\n",
       "  <tbody>\n",
       "    <tr>\n",
       "      <th>149818</th>\n",
       "      <td>1114170734472048640</td>\n",
       "      <td>http://pbs.twimg.com/tweet_video_thumb/D3ZUXNw...</td>\n",
       "      <td>[2, 5, 0]</td>\n",
       "      <td>https://twitter.com/user/status/11141707344720...</td>\n",
       "      <td>@svdate @gtconway3d I would just say hes Donny...</td>\n",
       "      <td>[Sexist, OtherHate, NotHate]</td>\n",
       "    </tr>\n",
       "    <tr>\n",
       "      <th>149819</th>\n",
       "      <td>1110368198786846720</td>\n",
       "      <td>http://pbs.twimg.com/ext_tw_video_thumb/111036...</td>\n",
       "      <td>[0, 0, 0]</td>\n",
       "      <td>https://twitter.com/user/status/11103681987868...</td>\n",
       "      <td>@Cheftime_Dev congrats my nigga keep on grindi...</td>\n",
       "      <td>[NotHate, NotHate, NotHate]</td>\n",
       "    </tr>\n",
       "    <tr>\n",
       "      <th>149820</th>\n",
       "      <td>1106941858540851200</td>\n",
       "      <td>http://pbs.twimg.com/media/D1yluGmXgAEKNG5.jpg</td>\n",
       "      <td>[0, 1, 0]</td>\n",
       "      <td>https://twitter.com/user/status/11069418585408...</td>\n",
       "      <td>My nigga big shitty https://t.co/e0snJGBgH9</td>\n",
       "      <td>[NotHate, Racist, NotHate]</td>\n",
       "    </tr>\n",
       "    <tr>\n",
       "      <th>149821</th>\n",
       "      <td>1105268309233188865</td>\n",
       "      <td>http://pbs.twimg.com/tweet_video_thumb/D1azqiz...</td>\n",
       "      <td>[1, 0, 0]</td>\n",
       "      <td>https://twitter.com/user/status/11052683092331...</td>\n",
       "      <td>did she just say “my nigga” to Rich? &amp;amp; she...</td>\n",
       "      <td>[Racist, NotHate, NotHate]</td>\n",
       "    </tr>\n",
       "    <tr>\n",
       "      <th>149822</th>\n",
       "      <td>1114653514364530691</td>\n",
       "      <td>http://pbs.twimg.com/media/D3gLdL0W0AENzVJ.jpg</td>\n",
       "      <td>[0, 0, 3]</td>\n",
       "      <td>https://twitter.com/user/status/11146535143645...</td>\n",
       "      <td>This nigga Joe Budden said thanos got a galact...</td>\n",
       "      <td>[NotHate, NotHate, Homophobe]</td>\n",
       "    </tr>\n",
       "  </tbody>\n",
       "</table>\n",
       "</div>"
      ],
      "text/plain": [
       "                         id  \\\n",
       "149818  1114170734472048640   \n",
       "149819  1110368198786846720   \n",
       "149820  1106941858540851200   \n",
       "149821  1105268309233188865   \n",
       "149822  1114653514364530691   \n",
       "\n",
       "                                                  img_url     labels  \\\n",
       "149818  http://pbs.twimg.com/tweet_video_thumb/D3ZUXNw...  [2, 5, 0]   \n",
       "149819  http://pbs.twimg.com/ext_tw_video_thumb/111036...  [0, 0, 0]   \n",
       "149820     http://pbs.twimg.com/media/D1yluGmXgAEKNG5.jpg  [0, 1, 0]   \n",
       "149821  http://pbs.twimg.com/tweet_video_thumb/D1azqiz...  [1, 0, 0]   \n",
       "149822     http://pbs.twimg.com/media/D3gLdL0W0AENzVJ.jpg  [0, 0, 3]   \n",
       "\n",
       "                                                tweet_url  \\\n",
       "149818  https://twitter.com/user/status/11141707344720...   \n",
       "149819  https://twitter.com/user/status/11103681987868...   \n",
       "149820  https://twitter.com/user/status/11069418585408...   \n",
       "149821  https://twitter.com/user/status/11052683092331...   \n",
       "149822  https://twitter.com/user/status/11146535143645...   \n",
       "\n",
       "                                               tweet_text  \\\n",
       "149818  @svdate @gtconway3d I would just say hes Donny...   \n",
       "149819  @Cheftime_Dev congrats my nigga keep on grindi...   \n",
       "149820        My nigga big shitty https://t.co/e0snJGBgH9   \n",
       "149821  did she just say “my nigga” to Rich? &amp; she...   \n",
       "149822  This nigga Joe Budden said thanos got a galact...   \n",
       "\n",
       "                           labels_str  \n",
       "149818   [Sexist, OtherHate, NotHate]  \n",
       "149819    [NotHate, NotHate, NotHate]  \n",
       "149820     [NotHate, Racist, NotHate]  \n",
       "149821     [Racist, NotHate, NotHate]  \n",
       "149822  [NotHate, NotHate, Homophobe]  "
      ]
     },
     "execution_count": 5,
     "metadata": {},
     "output_type": "execute_result"
    }
   ],
   "source": [
    "data_df.tail()"
   ]
  },
  {
   "cell_type": "code",
   "execution_count": 6,
   "id": "de95ac65",
   "metadata": {},
   "outputs": [],
   "source": [
    "nameMapping = {\n",
    "    0: 'Not Hate Speech',\n",
    "    1 : 'Hate Speech'\n",
    "}"
   ]
  },
  {
   "cell_type": "code",
   "execution_count": 7,
   "id": "6c25d0a5",
   "metadata": {},
   "outputs": [],
   "source": [
    "def NewClass(cls):\n",
    "    if cls in range(1,5):\n",
    "        return 1\n",
    "    elif cls == 0:\n",
    "        return 0\n",
    "    else:\n",
    "        return 1\n",
    "for tweetid , tweetData in data.items():\n",
    "    cls = tweetData['labels']\n",
    "    newClass = [NewClass(i) for i in cls]\n",
    "    tweetData['combinedLabels'] = newClass\n",
    "    tweetData['combinedLabels_str'] = nameMapping.get(newClass[0],'Unknown')    "
   ]
  },
  {
   "cell_type": "code",
   "execution_count": null,
   "id": "a508854e",
   "metadata": {},
   "outputs": [],
   "source": []
  },
  {
   "cell_type": "code",
   "execution_count": 8,
   "id": "c35af4be",
   "metadata": {},
   "outputs": [],
   "source": [
    "data_df = pd.DataFrame(data).T.reset_index()\n",
    "data_df.rename(columns={'index':'id'},inplace=True)"
   ]
  },
  {
   "cell_type": "code",
   "execution_count": 9,
   "id": "5b61cfbb",
   "metadata": {},
   "outputs": [
    {
     "data": {
      "text/plain": [
       "combinedLabels_str\n",
       "Not Hate Speech    104598\n",
       "Hate Speech         45225\n",
       "Name: count, dtype: int64"
      ]
     },
     "execution_count": 9,
     "metadata": {},
     "output_type": "execute_result"
    }
   ],
   "source": [
    "data_df['combinedLabels_str'].value_counts()"
   ]
  },
  {
   "cell_type": "code",
   "execution_count": 10,
   "id": "68df3e3a",
   "metadata": {},
   "outputs": [],
   "source": [
    "combined_labels = [item for sublist in data_df['labels_str'] for item in sublist]"
   ]
  },
  {
   "cell_type": "code",
   "execution_count": 11,
   "id": "e95a9eb7",
   "metadata": {},
   "outputs": [],
   "source": [
    "labels_val = [item for sublist in data_df['labels'] for item in sublist]"
   ]
  },
  {
   "cell_type": "code",
   "execution_count": 12,
   "id": "e55803ce",
   "metadata": {},
   "outputs": [],
   "source": [
    "labels = set(combined_labels)"
   ]
  },
  {
   "cell_type": "code",
   "execution_count": 13,
   "id": "e4bfe0f8",
   "metadata": {},
   "outputs": [
    {
     "data": {
      "text/plain": [
       "{'Homophobe', 'NotHate', 'OtherHate', 'Racist', 'Religion', 'Sexist'}"
      ]
     },
     "execution_count": 13,
     "metadata": {},
     "output_type": "execute_result"
    }
   ],
   "source": [
    "labels"
   ]
  },
  {
   "cell_type": "code",
   "execution_count": 14,
   "id": "55010bc9",
   "metadata": {},
   "outputs": [
    {
     "name": "stdout",
     "output_type": "stream",
     "text": [
      "(0    [4, 1, 3]\n",
      "1    [5, 5, 5]\n",
      "2    [0, 0, 0]\n",
      "3    [1, 0, 0]\n",
      "4    [1, 0, 1]\n",
      "Name: labels, dtype: object, 0        [Religion, Racist, Homophobe]\n",
      "1    [OtherHate, OtherHate, OtherHate]\n",
      "2          [NotHate, NotHate, NotHate]\n",
      "3           [Racist, NotHate, NotHate]\n",
      "4            [Racist, NotHate, Racist]\n",
      "Name: labels_str, dtype: object)\n"
     ]
    }
   ],
   "source": [
    "print(f\"{data_df['labels'].head(),data_df['labels_str'].head()}\")"
   ]
  },
  {
   "cell_type": "code",
   "execution_count": 15,
   "id": "bb7f37f8",
   "metadata": {},
   "outputs": [
    {
     "data": {
      "text/plain": [
       "{0, 1, 2, 3, 4, 5}"
      ]
     },
     "execution_count": 15,
     "metadata": {},
     "output_type": "execute_result"
    }
   ],
   "source": [
    "labelVal = set(labels_val)\n",
    "labelVal"
   ]
  },
  {
   "cell_type": "code",
   "execution_count": 16,
   "id": "23ede8ca",
   "metadata": {},
   "outputs": [
    {
     "data": {
      "text/html": [
       "<div>\n",
       "<style scoped>\n",
       "    .dataframe tbody tr th:only-of-type {\n",
       "        vertical-align: middle;\n",
       "    }\n",
       "\n",
       "    .dataframe tbody tr th {\n",
       "        vertical-align: top;\n",
       "    }\n",
       "\n",
       "    .dataframe thead th {\n",
       "        text-align: right;\n",
       "    }\n",
       "</style>\n",
       "<table border=\"1\" class=\"dataframe\">\n",
       "  <thead>\n",
       "    <tr style=\"text-align: right;\">\n",
       "      <th></th>\n",
       "      <th>id</th>\n",
       "      <th>img_url</th>\n",
       "      <th>labels</th>\n",
       "      <th>tweet_url</th>\n",
       "      <th>tweet_text</th>\n",
       "      <th>labels_str</th>\n",
       "      <th>combinedLabels</th>\n",
       "      <th>combinedLabels_str</th>\n",
       "    </tr>\n",
       "  </thead>\n",
       "  <tbody>\n",
       "    <tr>\n",
       "      <th>149818</th>\n",
       "      <td>1114170734472048640</td>\n",
       "      <td>http://pbs.twimg.com/tweet_video_thumb/D3ZUXNw...</td>\n",
       "      <td>[2, 5, 0]</td>\n",
       "      <td>https://twitter.com/user/status/11141707344720...</td>\n",
       "      <td>@svdate @gtconway3d I would just say hes Donny...</td>\n",
       "      <td>[Sexist, OtherHate, NotHate]</td>\n",
       "      <td>[1, 1, 0]</td>\n",
       "      <td>Hate Speech</td>\n",
       "    </tr>\n",
       "    <tr>\n",
       "      <th>149819</th>\n",
       "      <td>1110368198786846720</td>\n",
       "      <td>http://pbs.twimg.com/ext_tw_video_thumb/111036...</td>\n",
       "      <td>[0, 0, 0]</td>\n",
       "      <td>https://twitter.com/user/status/11103681987868...</td>\n",
       "      <td>@Cheftime_Dev congrats my nigga keep on grindi...</td>\n",
       "      <td>[NotHate, NotHate, NotHate]</td>\n",
       "      <td>[0, 0, 0]</td>\n",
       "      <td>Not Hate Speech</td>\n",
       "    </tr>\n",
       "    <tr>\n",
       "      <th>149820</th>\n",
       "      <td>1106941858540851200</td>\n",
       "      <td>http://pbs.twimg.com/media/D1yluGmXgAEKNG5.jpg</td>\n",
       "      <td>[0, 1, 0]</td>\n",
       "      <td>https://twitter.com/user/status/11069418585408...</td>\n",
       "      <td>My nigga big shitty https://t.co/e0snJGBgH9</td>\n",
       "      <td>[NotHate, Racist, NotHate]</td>\n",
       "      <td>[0, 1, 0]</td>\n",
       "      <td>Not Hate Speech</td>\n",
       "    </tr>\n",
       "    <tr>\n",
       "      <th>149821</th>\n",
       "      <td>1105268309233188865</td>\n",
       "      <td>http://pbs.twimg.com/tweet_video_thumb/D1azqiz...</td>\n",
       "      <td>[1, 0, 0]</td>\n",
       "      <td>https://twitter.com/user/status/11052683092331...</td>\n",
       "      <td>did she just say “my nigga” to Rich? &amp;amp; she...</td>\n",
       "      <td>[Racist, NotHate, NotHate]</td>\n",
       "      <td>[1, 0, 0]</td>\n",
       "      <td>Hate Speech</td>\n",
       "    </tr>\n",
       "    <tr>\n",
       "      <th>149822</th>\n",
       "      <td>1114653514364530691</td>\n",
       "      <td>http://pbs.twimg.com/media/D3gLdL0W0AENzVJ.jpg</td>\n",
       "      <td>[0, 0, 3]</td>\n",
       "      <td>https://twitter.com/user/status/11146535143645...</td>\n",
       "      <td>This nigga Joe Budden said thanos got a galact...</td>\n",
       "      <td>[NotHate, NotHate, Homophobe]</td>\n",
       "      <td>[0, 0, 1]</td>\n",
       "      <td>Not Hate Speech</td>\n",
       "    </tr>\n",
       "  </tbody>\n",
       "</table>\n",
       "</div>"
      ],
      "text/plain": [
       "                         id  \\\n",
       "149818  1114170734472048640   \n",
       "149819  1110368198786846720   \n",
       "149820  1106941858540851200   \n",
       "149821  1105268309233188865   \n",
       "149822  1114653514364530691   \n",
       "\n",
       "                                                  img_url     labels  \\\n",
       "149818  http://pbs.twimg.com/tweet_video_thumb/D3ZUXNw...  [2, 5, 0]   \n",
       "149819  http://pbs.twimg.com/ext_tw_video_thumb/111036...  [0, 0, 0]   \n",
       "149820     http://pbs.twimg.com/media/D1yluGmXgAEKNG5.jpg  [0, 1, 0]   \n",
       "149821  http://pbs.twimg.com/tweet_video_thumb/D1azqiz...  [1, 0, 0]   \n",
       "149822     http://pbs.twimg.com/media/D3gLdL0W0AENzVJ.jpg  [0, 0, 3]   \n",
       "\n",
       "                                                tweet_url  \\\n",
       "149818  https://twitter.com/user/status/11141707344720...   \n",
       "149819  https://twitter.com/user/status/11103681987868...   \n",
       "149820  https://twitter.com/user/status/11069418585408...   \n",
       "149821  https://twitter.com/user/status/11052683092331...   \n",
       "149822  https://twitter.com/user/status/11146535143645...   \n",
       "\n",
       "                                               tweet_text  \\\n",
       "149818  @svdate @gtconway3d I would just say hes Donny...   \n",
       "149819  @Cheftime_Dev congrats my nigga keep on grindi...   \n",
       "149820        My nigga big shitty https://t.co/e0snJGBgH9   \n",
       "149821  did she just say “my nigga” to Rich? &amp; she...   \n",
       "149822  This nigga Joe Budden said thanos got a galact...   \n",
       "\n",
       "                           labels_str combinedLabels combinedLabels_str  \n",
       "149818   [Sexist, OtherHate, NotHate]      [1, 1, 0]        Hate Speech  \n",
       "149819    [NotHate, NotHate, NotHate]      [0, 0, 0]    Not Hate Speech  \n",
       "149820     [NotHate, Racist, NotHate]      [0, 1, 0]    Not Hate Speech  \n",
       "149821     [Racist, NotHate, NotHate]      [1, 0, 0]        Hate Speech  \n",
       "149822  [NotHate, NotHate, Homophobe]      [0, 0, 1]    Not Hate Speech  "
      ]
     },
     "execution_count": 16,
     "metadata": {},
     "output_type": "execute_result"
    }
   ],
   "source": [
    "data_df.tail()"
   ]
  },
  {
   "cell_type": "code",
   "execution_count": 17,
   "id": "69f84087",
   "metadata": {},
   "outputs": [],
   "source": [
    "train_df = pd.read_csv(\"E:/CapstoneProject/Dataset/splits/train_ids.txt\",header = None)\n",
    "train_df.columns = ['id']\n",
    "test_df = pd.read_csv(\"E:/CapstoneProject/Dataset/splits/test_ids.txt\",header = None)\n",
    "test_df.columns = ['id']\n",
    "valid_df = pd.read_csv(\"E:/CapstoneProject/Dataset/splits/val_ids.txt\",header = None)\n",
    "valid_df.columns = ['id']"
   ]
  },
  {
   "cell_type": "code",
   "execution_count": 18,
   "id": "394b8708",
   "metadata": {},
   "outputs": [],
   "source": [
    "train_df['text_path'] = TEXTFOLDER + train_df['id'].astype(str) + '.json'\n",
    "valid_df['text_path'] = TEXTFOLDER + valid_df['id'].astype(str) + '.json'\n",
    "test_df['text_path'] = TEXTFOLDER + test_df['id'].astype(str) + '.json'"
   ]
  },
  {
   "cell_type": "code",
   "execution_count": 19,
   "id": "462313bf",
   "metadata": {},
   "outputs": [],
   "source": [
    "train_df['id'] = train_df['id'].astype(str)\n",
    "test_df['id'] = test_df['id'].astype(str)\n",
    "valid_df['id'] = test_df['id'].astype(str)"
   ]
  },
  {
   "cell_type": "code",
   "execution_count": 20,
   "id": "4d62ec16",
   "metadata": {},
   "outputs": [],
   "source": [
    "data_df['id'] = data_df['id'].astype(str)"
   ]
  },
  {
   "cell_type": "code",
   "execution_count": 21,
   "id": "db2e07fc",
   "metadata": {},
   "outputs": [],
   "source": [
    "train_df = train_df.merge(data_df, on='id', how='left')\n",
    "valid_df = valid_df.merge(data_df, on='id', how='left')\n",
    "test_df = test_df.merge(data_df, on='id', how='left')"
   ]
  },
  {
   "cell_type": "code",
   "execution_count": 22,
   "id": "a560ab94",
   "metadata": {},
   "outputs": [],
   "source": [
    "train_df['fileName'] = train_df['text_path'].str.split('/').apply(lambda a:a[-1])\n",
    "test_df['fileName'] = test_df['text_path'].str.split('/').apply(lambda a:a[-1])"
   ]
  },
  {
   "cell_type": "code",
   "execution_count": 23,
   "id": "9d90b27d",
   "metadata": {},
   "outputs": [],
   "source": [
    "dir_files = os.listdir(\"E:/CapstoneProject/Dataset/img_txt\")\n",
    "train_df['filesAvailable'] = train_df['fileName'].apply(lambda x: x in dir_files)"
   ]
  },
  {
   "cell_type": "code",
   "execution_count": 24,
   "id": "a27d47ff",
   "metadata": {},
   "outputs": [
    {
     "data": {
      "text/plain": [
       "filesAvailable\n",
       "False    81667\n",
       "True     53156\n",
       "Name: count, dtype: int64"
      ]
     },
     "execution_count": 24,
     "metadata": {},
     "output_type": "execute_result"
    }
   ],
   "source": [
    "train_df['filesAvailable'].value_counts()"
   ]
  },
  {
   "cell_type": "code",
   "execution_count": 25,
   "id": "7ac49969",
   "metadata": {},
   "outputs": [],
   "source": [
    "test_df['filesAvailable'] = test_df['fileName'].str.replace('img_txt','')\n",
    "test_df['filesAvailable'] = test_df['fileName'].isin(os.listdir('E:/CapstoneProject/Dataset/img_txt'))"
   ]
  },
  {
   "cell_type": "code",
   "execution_count": 26,
   "id": "171a3bfa",
   "metadata": {},
   "outputs": [],
   "source": [
    "train_df = train_df[train_df['filesAvailable'] == True]"
   ]
  },
  {
   "cell_type": "code",
   "execution_count": 27,
   "id": "c55bd39e",
   "metadata": {},
   "outputs": [],
   "source": [
    "test_df = test_df[test_df['filesAvailable'] == True]"
   ]
  },
  {
   "cell_type": "code",
   "execution_count": 29,
   "id": "1855fe41",
   "metadata": {},
   "outputs": [
    {
     "name": "stdout",
     "output_type": "stream",
     "text": [
      "İ'M SLOWLY BEC«MİNG RETARpEp! \n"
     ]
    }
   ],
   "source": [
    "with open(\"Dataset/img_txt/1023940826882293760.json\") as file:\n",
    "    data = json.load(file)\n",
    "text = data['img_text']\n",
    "print(text)\n",
    "\n",
    "import matplotlib.pyplot as plt\n",
    "%matplotlib inline\n",
    "\n",
    "def showText(path):\n",
    "    try:\n",
    "        with open(path) as file:\n",
    "            data = json.load(file)\n",
    "        text = data['img_text']\n",
    "    except FileNotFoundError:\n",
    "        text = \"File Not found error\"\n",
    "    return text    "
   ]
  },
  {
   "cell_type": "code",
   "execution_count": 30,
   "id": "cead404e",
   "metadata": {},
   "outputs": [
    {
     "data": {
      "text/plain": [
       "0                                                a bunch c \n",
       "1                                     nericansForTruth.org \n",
       "2                                                CHEVROLET \n",
       "7         trixie as a cheerleader trixie a a- cheerleade...\n",
       "9                                          CHELSEA HANDLER \n",
       "                                ...                        \n",
       "134813    CONVICT VAND E WHOLE SYSTEM IS GU COOK COUNTY ...\n",
       "134816    137 ctrijesssry SE WOT 105 120 150 ) x Relentl...\n",
       "134817                      Justine Canilao 30 subscribers \n",
       "134818    VICTORY Ranked Solo/Duo W:40-L:4025:36 ADVANCE...\n",
       "134822                                            快手 88877 \n",
       "Name: text, Length: 53156, dtype: object"
      ]
     },
     "execution_count": 30,
     "metadata": {},
     "output_type": "execute_result"
    }
   ],
   "source": [
    "train_df['labels'] = train_df['combinedLabels'].apply(lambda a : a[0])\n",
    "\n",
    "test_df['labels'] = test_df['combinedLabels'].apply(lambda a : a[0])\n",
    "\n",
    "train_df['labels'].unique()\n",
    "\n",
    "train_df['text'] = train_df.apply(lambda x : showText(x['text_path']),axis = 1)\n",
    "\n",
    "train_df['text']"
   ]
  },
  {
   "cell_type": "code",
   "execution_count": 35,
   "id": "5af81e98",
   "metadata": {},
   "outputs": [],
   "source": [
    "class TextDataset(Dataset):\n",
    "    def __init__(self,df,text='text',labelsField = 'labels'):\n",
    "        self.df = df.reset_index(drop = True)\n",
    "        self.text = text\n",
    "        self.labelsField = labelsField\n",
    "    \n",
    "    def __getitem__(self, index):\n",
    "        text = self.df.at[index , self.text]\n",
    "        labels = self.df.at[index , self.labelsField]\n",
    "        return text , labels\n",
    "    \n",
    "    def __len__(self):\n",
    "        return self.df.shape[0]\n",
    "    \n",
    "    \n",
    "bertTokenizer = AutoTokenizer.from_pretrained(\"bert-base-uncased\")\n",
    "        "
   ]
  },
  {
   "cell_type": "code",
   "execution_count": 44,
   "id": "f053c0c9",
   "metadata": {},
   "outputs": [],
   "source": [
    "class VLBertModel(nn.Module):\n",
    "    def __init__(self, numLabels, preTrained = 'bert-base-uncased'):\n",
    "        super().__init__()\n",
    "        self.numLabels = numLabels\n",
    "        self.text_encoder = AutoModel.from_pretrained(preTrained)\n",
    "        self.classifier = nn.Linear(\n",
    "            self.text_encoder.config.hidden_size,numLabels\n",
    "        )\n",
    "    def forward(self,text):\n",
    "        output = self.text_encoder(text['input_ids'],attention_mask = text['attention_mask'] , return_dict = True)\n",
    "        logits = self.classifier(output.last_hidden_state[:,0,:])\n",
    "        return logits\n",
    "\n",
    "out_labels = 2\n",
    "train_epochs = 10\n",
    "batch_size = 20\n",
    "learning_rate = 0.0004\n",
    "weight_decay = .01\n",
    "warmup_steps = 0\n",
    "max_seq_length =  64\n",
    "\n",
    "bertModel = VLBertModel(numLabels=out_labels)\n",
    "\n",
    "bertModel = bertModel.to(device)\n"
   ]
  },
  {
   "cell_type": "code",
   "execution_count": 36,
   "id": "e5a8ed68",
   "metadata": {},
   "outputs": [],
   "source": [
    "train_dataset = TextDataset(df=train_df, text='tweet_text', labelsField='labels')\n",
    "train_sampler = RandomSampler(train_dataset)        \n",
    "train_dataloader = DataLoader(dataset=train_dataset,\n",
    "                    batch_size=batch_size, \n",
    "                    sampler=train_sampler)\n",
    "\n",
    "\n",
    "t_total = len(train_dataloader) * train_epochs"
   ]
  },
  {
   "cell_type": "code",
   "execution_count": 40,
   "id": "4454b50a",
   "metadata": {},
   "outputs": [
    {
     "data": {
      "application/vnd.jupyter.widget-view+json": {
       "model_id": "ca692b15b4a74f7baf9aea9ca874cbea",
       "version_major": 2,
       "version_minor": 0
      },
      "text/plain": [
       "  0%|          | 0/2658 [00:00<?, ?it/s]"
      ]
     },
     "metadata": {},
     "output_type": "display_data"
    },
    {
     "name": "stdout",
     "output_type": "stream",
     "text": [
      "epoch = 0\n",
      "epoch Loss = 1632.4456431865692\n",
      "avg Loss  0.6141631464208311\n",
      "learning rate 0.00039021130325903074\n"
     ]
    },
    {
     "data": {
      "application/vnd.jupyter.widget-view+json": {
       "model_id": "43fc3197468a43bfac1415964ac94dc4",
       "version_major": 2,
       "version_minor": 0
      },
      "text/plain": [
       "  0%|          | 0/2658 [00:00<?, ?it/s]"
      ]
     },
     "metadata": {},
     "output_type": "display_data"
    },
    {
     "name": "stdout",
     "output_type": "stream",
     "text": [
      "epoch = 1\n",
      "epoch Loss = 1618.6918658018112\n",
      "avg Loss  0.6089886628298763\n",
      "learning rate 0.0003618033988749895\n"
     ]
    },
    {
     "data": {
      "application/vnd.jupyter.widget-view+json": {
       "model_id": "75e44e28d6fa4eceb2fca2ede6d309d5",
       "version_major": 2,
       "version_minor": 0
      },
      "text/plain": [
       "  0%|          | 0/2658 [00:00<?, ?it/s]"
      ]
     },
     "metadata": {},
     "output_type": "display_data"
    },
    {
     "name": "stdout",
     "output_type": "stream",
     "text": [
      "epoch = 2\n",
      "epoch Loss = 1615.9704299867153\n",
      "avg Loss  0.6079647968347311\n",
      "learning rate 0.00031755705045849464\n"
     ]
    },
    {
     "data": {
      "application/vnd.jupyter.widget-view+json": {
       "model_id": "1cb9c26f20974dd9935c7aec4220834d",
       "version_major": 2,
       "version_minor": 0
      },
      "text/plain": [
       "  0%|          | 0/2658 [00:00<?, ?it/s]"
      ]
     },
     "metadata": {},
     "output_type": "display_data"
    },
    {
     "name": "stdout",
     "output_type": "stream",
     "text": [
      "epoch = 3\n",
      "epoch Loss = 1614.6914428174496\n",
      "avg Loss  0.6074836127981376\n",
      "learning rate 0.00026180339887498953\n"
     ]
    },
    {
     "data": {
      "application/vnd.jupyter.widget-view+json": {
       "model_id": "a3e510e9090e47548317adaec01b8cc4",
       "version_major": 2,
       "version_minor": 0
      },
      "text/plain": [
       "  0%|          | 0/2658 [00:00<?, ?it/s]"
      ]
     },
     "metadata": {},
     "output_type": "display_data"
    },
    {
     "name": "stdout",
     "output_type": "stream",
     "text": [
      "epoch = 4\n",
      "epoch Loss = 1614.4024878442287\n",
      "avg Loss  0.6073749013710417\n",
      "learning rate 0.0002\n"
     ]
    },
    {
     "data": {
      "application/vnd.jupyter.widget-view+json": {
       "model_id": "7bc9757ac1e3422ab50d0f8860a68c93",
       "version_major": 2,
       "version_minor": 0
      },
      "text/plain": [
       "  0%|          | 0/2658 [00:00<?, ?it/s]"
      ]
     },
     "metadata": {},
     "output_type": "display_data"
    },
    {
     "name": "stdout",
     "output_type": "stream",
     "text": [
      "epoch = 5\n",
      "epoch Loss = 1613.663670629263\n",
      "avg Loss  0.6070969415459981\n",
      "learning rate 0.00013819660112501054\n"
     ]
    },
    {
     "data": {
      "application/vnd.jupyter.widget-view+json": {
       "model_id": "a00620f69fa9478eae173b66bba9a366",
       "version_major": 2,
       "version_minor": 0
      },
      "text/plain": [
       "  0%|          | 0/2658 [00:00<?, ?it/s]"
      ]
     },
     "metadata": {},
     "output_type": "display_data"
    },
    {
     "name": "stdout",
     "output_type": "stream",
     "text": [
      "epoch = 6\n",
      "epoch Loss = 1613.3641338944435\n",
      "avg Loss  0.6069842490197305\n",
      "learning rate 8.24429495415054e-05\n"
     ]
    },
    {
     "data": {
      "application/vnd.jupyter.widget-view+json": {
       "model_id": "ee585bf4b3ae41fabbd32b7e2ed0c7f9",
       "version_major": 2,
       "version_minor": 0
      },
      "text/plain": [
       "  0%|          | 0/2658 [00:00<?, ?it/s]"
      ]
     },
     "metadata": {},
     "output_type": "display_data"
    },
    {
     "name": "stdout",
     "output_type": "stream",
     "text": [
      "epoch = 7\n",
      "epoch Loss = 1612.8481405675411\n",
      "avg Loss  0.6067901206047935\n",
      "learning rate 3.819660112501053e-05\n"
     ]
    },
    {
     "data": {
      "application/vnd.jupyter.widget-view+json": {
       "model_id": "a75815dc953547ca9934b715cc3b1d1b",
       "version_major": 2,
       "version_minor": 0
      },
      "text/plain": [
       "  0%|          | 0/2658 [00:00<?, ?it/s]"
      ]
     },
     "metadata": {},
     "output_type": "display_data"
    },
    {
     "name": "stdout",
     "output_type": "stream",
     "text": [
      "epoch = 8\n",
      "epoch Loss = 1612.5957716107368\n",
      "avg Loss  0.6066951736684488\n",
      "learning rate 9.788696740969295e-06\n"
     ]
    },
    {
     "data": {
      "application/vnd.jupyter.widget-view+json": {
       "model_id": "ed2b0ac929ac4a5985b93628385974ae",
       "version_major": 2,
       "version_minor": 0
      },
      "text/plain": [
       "  0%|          | 0/2658 [00:00<?, ?it/s]"
      ]
     },
     "metadata": {},
     "output_type": "display_data"
    },
    {
     "name": "stdout",
     "output_type": "stream",
     "text": [
      "epoch = 9\n",
      "epoch Loss = 1612.5637193620205\n",
      "avg Loss  0.6066831148841311\n",
      "learning rate 0.0\n",
      "Training Completed in  9760.3957162\n"
     ]
    }
   ],
   "source": [
    "optimizer = AdamW(bertModel.parameters(),lr = learning_rate,weight_decay=weight_decay)\n",
    "\n",
    "scheduler = get_scheduler(name='cosine',optimizer=optimizer,num_warmup_steps=warmup_steps,num_training_steps=t_total)\n",
    "\n",
    "criterion = nn.CrossEntropyLoss()\n",
    "\n",
    "bertModel.train()\n",
    "\n",
    "start = perf_counter()\n",
    "\n",
    "for epoch_num in range(train_epochs):\n",
    "    epch_total_loss = 0\n",
    "    for step,batch in tqdm(enumerate(train_dataloader),total=len(train_dataloader)):\n",
    "        batch_text , batch_labels = batch\n",
    "        batch_inputs = bertTokenizer(\n",
    "            list(batch_text),truncation = True,max_length = max_seq_length,\n",
    "            return_tensors = \"pt\",padding = True\n",
    "        )\n",
    "        batch_labels = batch_labels.to(device)\n",
    "        batch_inputs = batch_inputs.to(device)\n",
    "        bertModel.zero_grad()\n",
    "        batch_logits = bertModel(text = batch_inputs)\n",
    "        loss = criterion(batch_logits,batch_labels)\n",
    "        epch_total_loss += loss.item()\n",
    "        \n",
    "        loss.backward()\n",
    "        \n",
    "        optimizer.step()\n",
    "        \n",
    "        scheduler.step()\n",
    "    avgLoss = epch_total_loss/len(train_dataloader)\n",
    "    print('epoch =',epoch_num)\n",
    "    print('epoch Loss =',epch_total_loss)\n",
    "    print('avg Loss ', avgLoss)\n",
    "    print('learning rate',optimizer.param_groups[0][\"lr\"])\n",
    "end = perf_counter()\n",
    "bertTrainingRate = end - start \n",
    "print(\"Training Completed in \", bertTrainingRate)\n"
   ]
  },
  {
   "cell_type": "code",
   "execution_count": 56,
   "id": "2f9bb877",
   "metadata": {},
   "outputs": [
    {
     "data": {
      "image/png": "[encoded data removed]",
      "text/plain": [
       "<Figure size 800x600 with 1 Axes>"
      ]
     },
     "metadata": {},
     "output_type": "display_data"
    }
   ],
   "source": [
    "from sklearn.metrics import roc_curve, auc\n",
    "import matplotlib.pyplot as plt\n",
    "import numpy as np\n",
    "\n",
    "# If bert_prediction_probs is (N, 1), flatten it\n",
    "if bert_prediction_probs.shape[1] == 1:\n",
    "    y_score = bert_prediction_probs.ravel()\n",
    "else:\n",
    "    y_score = bert_prediction_probs[:, 1]  # Use positive class\n",
    "\n",
    "# Binarize the labels\n",
    "y_true = (test_df['labels'] == 1).astype(int).values\n",
    "\n",
    "# Compute ROC curve and ROC area\n",
    "fpr, tpr, _ = roc_curve(y_true, y_score)\n",
    "roc_auc = auc(fpr, tpr)\n",
    "\n",
    "# Plot ROC curve\n",
    "plt.figure(figsize=(8, 6))\n",
    "plt.plot(fpr, tpr, color='darkorange', lw=2, label=f'ROC curve (area = {roc_auc:0.2f})')\n",
    "plt.plot([0, 1], [0, 1], 'k--', lw=2)\n",
    "plt.xlim([0.0, 1.0])\n",
    "plt.ylim([0.0, 1.05])\n",
    "plt.xlabel('False Positive Rate')\n",
    "plt.ylabel('True Positive Rate')\n",
    "plt.title('ROC Curve')\n",
    "plt.legend(loc=\"lower right\")\n",
    "plt.show()"
   ]
  },
  {
   "cell_type": "code",
   "execution_count": null,
   "id": "a1570a68",
   "metadata": {},
   "outputs": [],
   "source": []
  },
  {
   "cell_type": "code",
   "execution_count": 46,
   "id": "d0621466",
   "metadata": {},
   "outputs": [],
   "source": [
    "bertModel.eval()\n",
    "bert_prediction_probs = []\n",
    "with torch.no_grad():\n",
    "    for text, _ in DataLoader(TextDataset(test_df, text='tweet_text', labelsField='labels'), batch_size=32):\n",
    "        inputs = bertTokenizer(list(text), truncation=True, max_length=64, return_tensors=\"pt\", padding=True)\n",
    "        inputs = {k: v.to(device) for k, v in inputs.items()}\n",
    "        logits = bertModel(text=inputs)\n",
    "        probs = torch.softmax(logits, dim=1)\n",
    "        bert_prediction_probs.append(probs.cpu().numpy())\n",
    "bert_prediction_probs = np.concatenate(bert_prediction_probs, axis=0)"
   ]
  },
  {
   "cell_type": "code",
   "execution_count": null,
   "id": "3be9dde5",
   "metadata": {},
   "outputs": [],
   "source": []
  },
  {
   "cell_type": "code",
   "execution_count": null,
   "id": "9a3f7e12",
   "metadata": {},
   "outputs": [],
   "source": []
  },
  {
   "cell_type": "code",
   "execution_count": null,
   "id": "1e2a86a4",
   "metadata": {},
   "outputs": [],
   "source": []
  },
  {
   "cell_type": "code",
   "execution_count": null,
   "id": "458801c5",
   "metadata": {},
   "outputs": [],
   "source": []
  },
  {
   "cell_type": "code",
   "execution_count": null,
   "id": "27be9fba",
   "metadata": {},
   "outputs": [],
   "source": []
  },
  {
   "cell_type": "code",
   "execution_count": null,
   "id": "433474e5",
   "metadata": {},
   "outputs": [],
   "source": []
  },
  {
   "cell_type": "code",
   "execution_count": null,
   "id": "566a0021",
   "metadata": {},
   "outputs": [],
   "source": []
  },
  {
   "cell_type": "code",
   "execution_count": null,
   "id": "ba90562c",
   "metadata": {},
   "outputs": [],
   "source": []
  },
  {
   "cell_type": "code",
   "execution_count": null,
   "id": "24cb1e67",
   "metadata": {},
   "outputs": [],
   "source": []
  },
  {
   "cell_type": "code",
   "execution_count": null,
   "id": "65edf55e",
   "metadata": {},
   "outputs": [],
   "source": []
  },
  {
   "cell_type": "code",
   "execution_count": null,
   "id": "9f720388",
   "metadata": {},
   "outputs": [],
   "source": []
  },
  {
   "cell_type": "code",
   "execution_count": null,
   "id": "04f7d2cb",
   "metadata": {},
   "outputs": [],
   "source": []
  },
  {
   "cell_type": "code",
   "execution_count": null,
   "id": "ed2301db",
   "metadata": {},
   "outputs": [],
   "source": []
  },
  {
   "cell_type": "code",
   "execution_count": null,
   "id": "463acb55",
   "metadata": {},
   "outputs": [],
   "source": []
  },
  {
   "cell_type": "code",
   "execution_count": null,
   "id": "ba8753c5",
   "metadata": {},
   "outputs": [],
   "source": []
  },
  {
   "cell_type": "code",
   "execution_count": null,
   "id": "57fbd087",
   "metadata": {},
   "outputs": [],
   "source": []
  },
  {
   "cell_type": "code",
   "execution_count": null,
   "id": "69977bd8",
   "metadata": {},
   "outputs": [],
   "source": []
  },
  {
   "cell_type": "code",
   "execution_count": null,
   "id": "c598d4d3",
   "metadata": {},
   "outputs": [],
   "source": []
  },
  {
   "cell_type": "code",
   "execution_count": null,
   "id": "b00634b7",
   "metadata": {},
   "outputs": [],
   "source": []
  },
  {
   "cell_type": "code",
   "execution_count": null,
   "id": "a230e3eb",
   "metadata": {},
   "outputs": [],
   "source": []
  },
  {
   "cell_type": "code",
   "execution_count": null,
   "id": "a84c5ed5",
   "metadata": {},
   "outputs": [],
   "source": []
  },
  {
   "cell_type": "code",
   "execution_count": null,
   "id": "edd4f91d",
   "metadata": {},
   "outputs": [],
   "source": []
  },
  {
   "cell_type": "code",
   "execution_count": null,
   "id": "22c5f1a5",
   "metadata": {},
   "outputs": [],
   "source": []
  }
 ],
 "metadata": {
  "kernelspec": {
   "display_name": "base",
   "language": "python",
   "name": "python3"
  },
  "language_info": {
   "codemirror_mode": {
    "name": "ipython",
    "version": 3
   },
   "file_extension": ".py",
   "mimetype": "text/x-python",
   "name": "python",
   "nbconvert_exporter": "python",
   "pygments_lexer": "ipython3",
   "version": "3.12.7"
  }
 },
 "nbformat": 4,
 "nbformat_minor": 5
}
